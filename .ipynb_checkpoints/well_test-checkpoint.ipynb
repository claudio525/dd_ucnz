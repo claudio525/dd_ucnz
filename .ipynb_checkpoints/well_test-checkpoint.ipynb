{
 "cells": [
  {
   "cell_type": "markdown",
   "metadata": {},
   "source": [
    "# <div style=\"text-align: center\">Well Testing</div>\n",
    "\n",
    "<div style=\"text-align: center\"> <sub>ENCN342 - Hydraulics and Applied Hydrology</sub></div>\n",
    "\n",
    "$\\,$\n",
    "\n",
    "<div style=\"text-align: center\"> University of Canterbury </div>\n",
    "\n",
    "$\\,$\n",
    "\n",
    "<img src=\"img/well.jpg\" alt=\"Drawing\" style=\"width: 400px;\"/>\n",
    "\n",
    "### Notebook instructions\n",
    "\n",
    "Run cells containing code by clicking on them and hitting **Ctrl+Enter** or by Cell>Run Cells in the drop-down menu.\n",
    "\n",
    "For queries, the course instructor or notebook author (David Dempsey)"
   ]
  },
  {
   "cell_type": "markdown",
   "metadata": {},
   "source": [
    "## Preamble"
   ]
  },
  {
   "cell_type": "markdown",
   "metadata": {},
   "source": [
    "Consider a simple groundwater system that comprises a **confining layer** and a **confined aquifer** beneath it. The **piezometric surface**<sup>1</sup> sits just below the ground surface.\n",
    "\n",
    "A **pumping well** has been drilled that is screened across the entire depth of the aquifer. An **observation well** has also been drilled with the water level in this well reflecting the piezometric surface at that location.\n",
    "\n",
    "> *Run the* ***notebook cell*** *below that begins* **`from`**` well_test `**`import`** *by clicking inside it and hitting* **`Ctrl+Enter`.**\n",
    "\n",
    "<sup>1 The piezometric surface for a confined aquifer is **not necessarily** the same as the water table. It reflects the relative pressure in the confined aquifer and could be higher or lower than the water table depending land surface elevation or past abstraction. In an **unconfined aquifer** the piezometric surface **does** coincide with the water table.</sup>"
   ]
  },
  {
   "cell_type": "code",
   "execution_count": null,
   "metadata": {},
   "outputs": [],
   "source": [
    "from well_test import*\n",
    "conceptual_model()"
   ]
  },
  {
   "cell_type": "markdown",
   "metadata": {},
   "source": [
    "***Complete the Getting Started activities in `Conceptual_Exercises.pdf`***"
   ]
  },
  {
   "cell_type": "markdown",
   "metadata": {},
   "source": [
    "## 1. Pumping a confined aquifer"
   ]
  },
  {
   "cell_type": "markdown",
   "metadata": {},
   "source": [
    "The purpose of well testing is to **measure** specific properties of the nearby rock that contains groundwater, principally **storage**, $S$, and **transmissivity**, $T$. These help us to later **predict** how an aquifer will respond to future abstraction.\n",
    "\n",
    "For a **confined aquifer**, the Theis equation can be used to estimate $S$ and $T$ from observations of **drawdown**, $h$.\n",
    "\n",
    "\\begin{equation}\n",
    "h = \\frac{1}{4\\pi} \\frac{Q}{T} W\\left(\\frac{r^2S}{4Tt}\\right)\\quad\\quad\\approx 0.183\\frac{Q}{T}\\log\\left(\\frac{2.25 Tt}{r^2S}\\right)\\quad\\text{when}\\quad\\frac{r^2S}{4Tt}<0.05\n",
    "\\end{equation}\n",
    "\n",
    "where $W(\\cdot)$ is the well function, $r$ is distance to the observation well, $t$ is time, $S$ is storage, $Q$ is pumping rate, and $T$ is transmissivity.\n",
    "\n",
    "> *Run the Notebook Cell below, which uses the* **log** *approximation above to model drawdown.*"
   ]
  },
  {
   "cell_type": "code",
   "execution_count": null,
   "metadata": {},
   "outputs": [],
   "source": [
    "confined_aquifer(analysis=False)"
   ]
  },
  {
   "cell_type": "markdown",
   "metadata": {},
   "source": [
    "***Complete Problem Set 1 in `Conceptual_Exercises.pdf`***"
   ]
  },
  {
   "cell_type": "markdown",
   "metadata": {},
   "source": [
    "## 2. Pumping a semi-confined aquifer"
   ]
  },
  {
   "cell_type": "markdown",
   "metadata": {},
   "source": [
    "Some confining layers allow a little bit of water to pass through. These leaky aquifers have a different response to drawdown, because now recharge can be drawn from above, in addition to radially.\n",
    "\n",
    "Leaky aquifers are characterized by flattening of the drawdown-time curve. The Hantush-Jacob analytical solution describes this curve.\n",
    "\n",
    "\\begin{equation}\n",
    "h = \\frac{1}{4\\pi} \\frac{Q}{T} W_h\\left(u,\\frac{r}{L}\\right), \\quad\\quad L = \\sqrt{Tc} \n",
    "\\end{equation}\n",
    "\n",
    "where $W_h(\\cdot)$ is the Hantush well function and $c$ is the hydraulic resistance of the aquitard.\n",
    "\n",
    "> *Run the Notebook Cell below, which implements the Hantush-Jacob solution.*"
   ]
  },
  {
   "cell_type": "code",
   "execution_count": null,
   "metadata": {
    "scrolled": false
   },
   "outputs": [],
   "source": [
    "leaky_aquifer()"
   ]
  },
  {
   "cell_type": "markdown",
   "metadata": {},
   "source": [
    "***Complete Problem Set 2 in `Conceptual_Exercises.pdf`***"
   ]
  },
  {
   "cell_type": "markdown",
   "metadata": {},
   "source": [
    "## 3. Pumping a laterally constrained aquifer"
   ]
  },
  {
   "cell_type": "markdown",
   "metadata": {},
   "source": [
    "### Flow boundaries"
   ]
  },
  {
   "cell_type": "markdown",
   "metadata": {},
   "source": [
    "Aquifers can be horizontally truncated in the presence of low permeability faults or where fault movement has laterally juxtaposed a confining unit against the aquifer. In either case, flow barriers affect the groundwater near the well and therefore the response to pumping.\n",
    "\n",
    "At a flow barrier, the hydraulic gradient must be zero (if it wasn't, there would be flow, which there can't...) This can be enforced in a model by adding an image well at the same distance on the otherside of the flow barrier - any attempt to steepen the hydraulic gradient towards the real well will then be offset by the effect of the image well.\n",
    "\n",
    "For a well at $\\mathbf{x}_w=[R,0]$ and a boundary on the $y$-axis, the drawdown is\n",
    "\n",
    "\\begin{equation}\n",
    "h = \\frac{1}{4\\pi} \\frac{Q}{T} W\\left(\\frac{|\\mathbf{x}-\\mathbf{x}_w|^2S}{4Tt}\\right) + \\frac{1}{4\\pi} \\frac{Q}{T} W\\left(\\frac{|\\mathbf{x}+\\mathbf{x}_w|^2S}{4Tt}\\right)\n",
    "\\end{equation}\n",
    "\n",
    "where the second term is the Theis solution due to extraction from an image well located at -$\\mathbf{x}_w$. \n",
    "\n",
    "Superposition in this manner requires that the constitutive solutions be derived from linear governing equations. This condition is satisifed for both Theis and Hantush-Jacob solutions.\n",
    "\n",
    "> *Run the Notebook Cell below, which demonstrates the image well approximation to a flow barrier.*"
   ]
  },
  {
   "cell_type": "code",
   "execution_count": null,
   "metadata": {},
   "outputs": [],
   "source": [
    "flow_barrier()"
   ]
  },
  {
   "cell_type": "markdown",
   "metadata": {},
   "source": [
    "### Recharge source"
   ]
  },
  {
   "cell_type": "markdown",
   "metadata": {},
   "source": [
    "A source of recharge can be thought of as a boundary of zero drawdown. This drawdown can be modelled by adding an image well on the other side of the boundary that is injecting at -$Q$. For a well at $\\mathbf{x}_w=[R,0]$ and a line of recharge (e.g., the coastline) on the $y$-axis, the drawdown is\n",
    "\n",
    "\\begin{equation}\n",
    "h = \\frac{1}{4\\pi} \\frac{Q}{T} W\\left(\\frac{|\\mathbf{x}-\\mathbf{x}_w|^2S}{4Tt}\\right) - \\frac{1}{4\\pi} \\frac{Q}{T} W\\left(\\frac{|\\mathbf{x}+\\mathbf{x}_w|^2S}{4Tt}\\right)\n",
    "\\end{equation}\n",
    "\n",
    "where the second term is the Theis solution due to injection (hence negative) into an image well located at -$\\mathbf{x}_w$. \n",
    "\n",
    "For any location on the $y$-axis, $\\mathbf{x}=[0,y]$, then the radii in both terms becomes $|\\mathbf{x}-\\mathbf{x}_w|^2 = R^2+y^2=|\\mathbf{x}+\\mathbf{x}_w|^2$ and therefore the two terms cancel so that $h=0$.\n",
    "\n",
    "> *Run the Notebook Cell below, which demonstrates the image well approximation to a source of recharge.*"
   ]
  },
  {
   "cell_type": "code",
   "execution_count": null,
   "metadata": {},
   "outputs": [],
   "source": [
    "recharge_source()"
   ]
  },
  {
   "cell_type": "markdown",
   "metadata": {},
   "source": [
    "***Complete Problem Set 3 in `Conceptual_Exercises.pdf`***"
   ]
  },
  {
   "cell_type": "markdown",
   "metadata": {},
   "source": [
    "## 4. Pumping an unconfined aquifer"
   ]
  },
  {
   "cell_type": "markdown",
   "metadata": {},
   "source": [
    "In an unconfined aquifer, we must contend with both changes of the hydraulic gradient AND a reduction of the saturated thickness. Furthermore, there are two storage responses: early on, it is the elastic storage that yields water to the well, with water table drawdown occurring later. The solution assumes that vertical flow in the aquifer can be neglected and that drawdown is small compared to saturated thickness.\n",
    "\n",
    "Neuman (1975) formulated a semi-analytical solution to this problem, which was later updated by a more computationally efficient solution from Moench (1996).\n",
    "\n",
    "> *Run the Notebook Cell below, which demonstrates the Moench-Neuman flow solution in an unconfined aquifer.*"
   ]
  },
  {
   "cell_type": "code",
   "execution_count": null,
   "metadata": {},
   "outputs": [],
   "source": [
    "unconfined_aquifer()"
   ]
  },
  {
   "cell_type": "markdown",
   "metadata": {},
   "source": [
    "***Complete Problem Set 4 in `Conceptual_Exercises.pdf`***"
   ]
  },
  {
   "cell_type": "markdown",
   "metadata": {},
   "source": [
    "## All pumping tests"
   ]
  },
  {
   "cell_type": "code",
   "execution_count": null,
   "metadata": {
    "scrolled": false
   },
   "outputs": [],
   "source": [
    "all_options()"
   ]
  }
 ],
 "metadata": {
  "kernelspec": {
   "display_name": "Python 3",
   "language": "python",
   "name": "python3"
  },
  "language_info": {
   "codemirror_mode": {
    "name": "ipython",
    "version": 3
   },
   "file_extension": ".py",
   "mimetype": "text/x-python",
   "name": "python",
   "nbconvert_exporter": "python",
   "pygments_lexer": "ipython3",
   "version": "3.7.9"
  }
 },
 "nbformat": 4,
 "nbformat_minor": 2
}
