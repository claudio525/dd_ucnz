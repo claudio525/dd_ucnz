{
 "cells": [
  {
   "cell_type": "markdown",
   "metadata": {},
   "source": [
    "# <div style=\"text-align: center\">$\\quad$Design</div>"
   ]
  },
  {
   "cell_type": "markdown",
   "metadata": {},
   "source": [
    "<div style=\"text-align: center\"> <sub>Mathematical Modelling Practices</sub></div>\n",
    "\n",
    "$\\,$\n",
    "\n",
    "<div style=\"text-align: center\"> Department of Engineering Science </div>\n",
    "\n",
    "$\\,$\n",
    "\n",
    "<img src=\"img/venting_well.jpg\" alt=\"Drawing\" style=\"width: 200px;\"/>\n",
    "\n",
    "$\\,$"
   ]
  },
  {
   "cell_type": "code",
   "execution_count": 1,
   "metadata": {
    "collapsed": true
   },
   "outputs": [],
   "source": [
    "# imports and environment: this cell must be executed before any other in the notebook\n",
    "%matplotlib inline\n",
    "from design263 import*"
   ]
  },
  {
   "cell_type": "markdown",
   "metadata": {},
   "source": [
    "## 1 Designing Mathematical Models"
   ]
  },
  {
   "cell_type": "markdown",
   "metadata": {},
   "source": [
    "<div style=\"text-align: right\"> “*Mathematical modelling is a principled activity that has both principles behind it and methods that can be successfully applied.*” </div> \n",
    "<div style=\"text-align: right\"> - Clive Dym </div>"
   ]
  },
  {
   "cell_type": "markdown",
   "metadata": {},
   "source": [
    "Development of a mathematical model and its numerical implementation is increasingly commonplace when solving engineering problems. Models provide information to assist decision-making, e.g., a forecast of steam production from a geothermal field for the next 30 years. Models can be used as tools to estimate unknown system parameters from a set of real-world observations, e.g., estimating the amount of slip that occurred on an underground fault during an earthquake using only observations of displacement at the surface derived from GPS. Sometimes development of the model is the goal itself, i.e., the mathematical model is a *product* to be *designed* and delivered to the *client*.\n",
    "\n",
    "For this module, you will be assessed on your ability to apply concepts of engineering design relevant to mathematical modelling. Presented with an engineering problem, you should feel comfortable laying out the specific<sup>1</sup>  *trajectory* of a modelling study. This lays out a path that you will *probably* follow: it has a clear starting point, milestones against which progress can be measured, and articulates useful deliverables. In practical situations, such a plan might serve as a *schedule of work* for a client, or a *research proposal* for a funding agency. \n",
    "\n",
    "<sup>1</sup> <sub>As opposed to generic statements that could be offered about *any* mathematical model.</sub>"
   ]
  },
  {
   "cell_type": "markdown",
   "metadata": {
    "heading_collapsed": true
   },
   "source": [
    "### 1.1 Terminology and notation"
   ]
  },
  {
   "cell_type": "markdown",
   "metadata": {
    "hidden": true
   },
   "source": [
    "In this discussion, it is useful to define and adhere to some general notation. A general mathematical model is written\n",
    "\n",
    "\\begin{equation}\n",
    "y=f(\\mathbf{x};\\boldsymbol{\\theta}),\n",
    "\\end{equation}\n",
    "\n",
    "where $\\mathbf{x}$ is a vector of independent variables (e.g., $\\mathbf{x} = [x_1,x_2,x_3]$, a set of spatial coordinates, or $\\mathbf{x} = [t,x]$, one space coordinate and time), and $y$ is the dependent variable<sup>2</sup>. The mathematical model is denoted $f(\\cdot)$ and while you will previously have seen this used to refer to an analytical function (e.g., $f(x)=x^2$), here, there is no requirement that the model can be distilled to such a digestible form<sup>3</sup>. Finally, $\\boldsymbol{\\theta}$ is a vector of model parameters.\n",
    "\n",
    "A parameter is a model input whose value does not change while the model is being run. For example, a particular physical process might be modelled by a quadratic function\n",
    "\n",
    "\\begin{equation}\n",
    "y = ax^2+bx+c=f(x;a,b,c),\n",
    "\\end{equation}\n",
    "\n",
    "in which case the parameters are $a$, $b$, and $c$, and the parameter vector is $\\boldsymbol{\\theta}=[a,b,c]$.\n",
    "\n",
    "A more complex example, a mathematical model for the vertical displacement of a car, $u$, with damped shock absorption is \n",
    "\n",
    "\\begin{equation}\n",
    "m \\frac{d^2 u}{d t^2} + c\\frac{du}{dt} +ku = mg,\n",
    "\\end{equation}\n",
    "\n",
    "where $m$ is the mass of the car, $c$ a coefficient describing the viscous response of the shock absorber, $k$ is a spring constant, $g$ is gravity, and $t$ is time. In this case, the vector of parameters is $\\boldsymbol(\\theta)=[m,c,k,g]$, the vector of independent variables is $x=[t]$ and the dependent variable is $y=u$. This example illustrates a number of common realities related to model parameters:\n",
    "\n",
    "1. Parameter values can be well-known constants independent of the particular situation, e.g., $g$ = 9.81 ms-2 provided we restrict our attention to the Earth’s surface.\n",
    "2. Some parameter values are well-known but change depending on the situation, e.g., $m$ = 1350 kg for one make of car and $m$ = 1600 kg for a different make.\n",
    "3. Some parameter values are uncertain or unknown, e.g., manufacturers do not routinely report $c$ and $k$ for their cars, although experience tells us that $k$ probably lies in the range $[k_{min},k_{max}]$.\n",
    "\n",
    "Sometimes, a parameter might actually depend on one of the dependent variables that we are attempting to model; in which case, it is not really a parameter. For example, consider the damping model above and imagine a spring whose stiffness depended on the applied extension, i.e.,\n",
    "\n",
    "\\begin{equation}\n",
    "k = g(u;\\boldsymbol{\\nu}).\n",
    "\\end{equation}\n",
    "\n",
    "In this case, we have a *second mathematical model*, $g(\\cdot)$, for the stiffness of the spring, which has its own parameters, $\\boldsymbol{\\nu}$. Such variables are sometimes called *secondary variables*. However, for practical purposes, we might *assume* that $k$ is constant, forcing it to be a parameter.\n",
    "\n",
    "<sup>2</sup> <sub>In this generic notation, it is understood that y does not refer to a spatial coordinate.</sub>\n",
    "\n",
    "<sup>3</sup> <sub>Large climate models have millions of independent variables and parameters, it is simply not feasible to express $f(\\cdot)$ as a closed-form function.</sub>\n"
   ]
  },
  {
   "cell_type": "markdown",
   "metadata": {
    "heading_collapsed": true,
    "hidden": true
   },
   "source": [
    "#### 1.1.1 Simulators and models"
   ]
  },
  {
   "cell_type": "markdown",
   "metadata": {
    "hidden": true
   },
   "source": [
    "A simulator is a computer program that accepts (one or more of): (i) a set of model parameters, (ii) a description of the problem geometry, (iii) a set of initial conditions and (iv) boundary conditions. The simulator’s function is to apply physics appropriate to the problem and to return an output. The *simulator* is largely indifferent to the particular [*parameters, geometry, initial conditions, boundary conditions*, ...] it receives, serving more as a physics engine for converting inputs into outputs.\n",
    "\n",
    "In contrast, the *model* comprises all those things that serve as inputs to the simulator – the parameters, geometry, initial and boundary conditions – for a specific situation. The model also includes the *simulated output*. The model is a mathematical approximation for a specific reality.\n",
    "\n",
    "Thus, a *simulator* can be used to generate multiple *different models* simply by varying the input parameters. For example, we may talk about the *model* for the Wairakei geothermal system (Taupo), which is produced by the *simulator* TOUGH2 (an industry standard for geothermal reservoir modelling) describing control volume conservation of heat and mass. We use the same *simulator* to construct different models for the Ohaaki and Ngawha geothermal systems.\n",
    "\n",
    "A simulator approximates how reality works whereas a mathematical model is an approximate representation of a particular reality.\n"
   ]
  },
  {
   "cell_type": "markdown",
   "metadata": {
    "heading_collapsed": true,
    "hidden": true
   },
   "source": [
    "#### 1.1.2 Black box"
   ]
  },
  {
   "cell_type": "markdown",
   "metadata": {
    "hidden": true
   },
   "source": [
    "A *black box* is a simulator or model for which the modeller has an incomplete (or absent) understanding of its internal workings. All they know is that the *black box* accepts a set of inputs, $\\mathbf{x}$ and $\\boldsymbol{\\theta}$, and returns an output $y$. Naturally, use of a black box entails certain risks, primarily when it is used in situations for which it is not intended (e.g., we might naively use a geothermal simulator to model production from an oil reservoir; but oil behaves differently to water). However, practicality demands that many users will have only a partial understanding of the simulators they use, i.e., some model aspects will remain as a black box. In this course, you will work with several black box simulators."
   ]
  },
  {
   "cell_type": "markdown",
   "metadata": {},
   "source": [
    "### 1.2 Ten questions"
   ]
  },
  {
   "cell_type": "markdown",
   "metadata": {},
   "source": [
    "Dym (2004) suggests that mathematical modelling can be distilled to a set of principles, phrased as questions, about the modelling objectives and approach. This is not an exhaustive list, nor a rigid algorithm or recipe, but is rather a way to structure and guide your thinking as you develop a mathematical model. The ten questions are encapsulated in the flow diagram below.\n",
    "\n",
    "<img src=\"img/model_design_guide.png\" alt=\"Drawing\" style=\"width: 700px;\"/>\n",
    "\n",
    "<div style=\"text-align: center\"> ***A 10 question model design guide, adapted from Dym (2004).*** </div> \n",
    "\n",
    "Each of these ten questions is expanded upon below, and illustrated for the case of a numerical model of the Wairakei geothermal system."
   ]
  },
  {
   "cell_type": "markdown",
   "metadata": {
    "heading_collapsed": true
   },
   "source": [
    "#### 1.2.1 Why? What generally are we looking to achieve?"
   ]
  },
  {
   "cell_type": "markdown",
   "metadata": {
    "hidden": true
   },
   "source": [
    "The general purpose of the modelling study, usually one of three options:\n",
    "\n",
    "1. The model is to provide a forecast of some future outcome (forward modelling).\n",
    "2. The model will be used to estimate an unknown parameter value from some data (inverse modelling).\n",
    "3. The model will provide qualitative understanding of a complex system with multiple interacting processes and exhibiting a range of observed behaviours (modelling for insight).\n",
    "\n",
    "<mark>*For example, we seek to construct a mathematical model that can provide information to support sustainable and economic future operation of the Wairakei geothermal system.*</mark>\n"
   ]
  },
  {
   "cell_type": "markdown",
   "metadata": {
    "heading_collapsed": true
   },
   "source": [
    "#### 1.2.2 Find? What specifically do we want to find out?"
   ]
  },
  {
   "cell_type": "markdown",
   "metadata": {
    "hidden": true
   },
   "source": [
    "A specific statement of the model objectives and outputs. These are useful when deciding how much complexity should be included in the model. They also tell us whether the model is fulfilling its intended purpose.\n",
    "\n",
    "<mark>*The model will be used to determine sustainable steam extraction and reinjection rates (mass / time), that limit 30-year pressure decline in the main reservoir to 5 MPa, while delivering at least 120 MW thermal output.*</mark>\n"
   ]
  },
  {
   "cell_type": "markdown",
   "metadata": {
    "heading_collapsed": true
   },
   "source": [
    "#### 1.2.3 Given? What do we already know?"
   ]
  },
  {
   "cell_type": "markdown",
   "metadata": {
    "hidden": true
   },
   "source": [
    "Identify all data that is available to constrain the model. This includes:\n",
    "\n",
    "- Parameter values – if unknown, then a likely range of values should be determined.\n",
    "- Observations of the variables being modelled – we shall use these to test the model predictions.\n",
    "- Knowledge of the system geometry and boundary conditions. \n",
    "\n",
    "<mark> *At Wairakei, we have measurements of temperature and pressure from 100 different wells going back 50 years. We also know the depths and thicknesses of the important geological formations. Permeability values are not well-known, although approximate ranges are known for some formations. We know the rainfall infiltration rate in the area and the approximate areal extent of the system.* </mark>\n"
   ]
  },
  {
   "cell_type": "markdown",
   "metadata": {
    "heading_collapsed": true
   },
   "source": [
    "#### 1.2.4\tAssume? What can we assume?"
   ]
  },
  {
   "cell_type": "markdown",
   "metadata": {
    "hidden": true
   },
   "source": [
    "Simplifying assumptions are unavoidable when developing mathematical models. However, it is the responsibility of the modeller that any assumptions made can be demonstrated to be reasonable. “Reasonable” means that the assumption can be justified by available data, scientific consensus, or expert knowledge. In addition, it is desirable, although not always practical, that assumptions have quantifiable consequences, i.e., if the assumption is eliminated, by how much do the predictions change? Some assumptions are only appropriate for particular model predictions, e.g., we might assume *Reynolds-averaged Stokes flow* which averages out the effects of turbulence but precludes the model from predicting instantaneous turbulence effects. \n",
    "\n",
    "<mark> *At Wairakei, the reservoir fluid is assumed to be pure water (in practice, it may contain dissolved gases like CO2). There is assumed to be a constant rate of recharge of hot water (energy / time; mass / time) from a deep magmatic source to the base of the geothermal system (in practice, this recharge varies over geologic time scales, tens of thousands of years). Assume that permeability and porosity of the rock have constant values (i.e., parameters) and can be averaged across the volume of a model grid block (in practice, they change over time and the averaging introduces some error). * </mark>\n"
   ]
  },
  {
   "cell_type": "markdown",
   "metadata": {
    "heading_collapsed": true
   },
   "source": [
    "#### 1.2.5\tHow? How should we conceptualize this model?"
   ]
  },
  {
   "cell_type": "markdown",
   "metadata": {
    "hidden": true
   },
   "source": [
    "Identify the governing physical principles and a simplified abstraction of the real-world problem. These could include flows of mass, energy or momentum (the conservation laws that underpin much of classical physics) or statements about the dependency of some variables on others. A simple diagram or sketch is excellent at this stage.\n",
    "\n",
    "<mark> *A geothermal system is a convecting plume (like a pot of water heated on the stove) that transports hot water from great depths to the surface, storing some amount at intermediate depths (the reservoir). To model a geothermal system, we need to understand how mass (water) and energy are stored locally, how they move through the system, and how they may be removed from/introduced to the system by boundary conditions or production/reinjection wells. Ultimately, mass and energy are known to be governed by conservation laws. In addition, density and viscosity are properties of water that depend on temperature (hot water rises) and we understand this to be important to the convection problem. * </mark>\n",
    "\n",
    "<img src=\"img/geothermal_conceptual.png\" alt=\"Drawing\" style=\"width: 700px;\"/>\n",
    "\n",
    "<div style=\"text-align: center\"> ***Conceptual model of a convecting geothermal system in New Zealand.*** </div> \n"
   ]
  },
  {
   "cell_type": "markdown",
   "metadata": {
    "heading_collapsed": true
   },
   "source": [
    "#### 1.2.6\tFormulate? How is the model formulated mathematically and numerically?"
   ]
  },
  {
   "cell_type": "markdown",
   "metadata": {
    "hidden": true
   },
   "source": [
    "Identify the relevant equations and their numerical implementation, such that the inputs, $\\mathbf{x}$ and $\\boldsymbol{\\theta}$, are converted into the desired prediction, $y$. The model is no longer simply an idea but now exists<sup>4</sup> as a tool, $f_0(\\cdot)$, to be applied in pursuit of the modelling goals and objectives (questions 1 and 2). This step might involve the development of a new *simulator*, or use of an existing one.\n",
    "\n",
    "<mark> *In our model of a geothermal system, we will approximate mass flow using Darcy’s law, energy flux as a mixture of conduction (Fourier’s law) and advection, and assumed local thermal equilibrium between water and rock. The temperature dependence of viscosity and density (secondary variables) are given by look-up tables (another model). The equations are solved by the industry-standard simulator TOUGH2 using a control volume formulation and which outputs evolving temperature and pressure fields. *</mark>\n"
   ]
  },
  {
   "cell_type": "markdown",
   "metadata": {
    "heading_collapsed": true
   },
   "source": [
    "#### 1.2.7\tWorking? Is the model working correctly? (Is the model right?)"
   ]
  },
  {
   "cell_type": "markdown",
   "metadata": {
    "hidden": true
   },
   "source": [
    "Identify tests or benchmarks that show that the governing equations are properly implemented in the simulator. A benchmark is typically a comparison against some simplified scenario for which it is possible to derive a closed-form analytical solution. One must also check that the model is consistent with any available observations. If it provides a good match, the model is said to be *calibrated*.\n",
    "\n",
    "<mark>* The simulator TOUGH2 has been benchmarked against a range of analytical solutions and compared against other simulators on the market. For the Wairakei model, simulated temperatures are a reasonable approximation to measurements made in different wells in the field.*</mark>\n"
   ]
  },
  {
   "cell_type": "markdown",
   "metadata": {
    "heading_collapsed": true
   },
   "source": [
    "#### 1.2.8\tSuitable? Does the model fulfill its purpose? (Is it the right model?)"
   ]
  },
  {
   "cell_type": "markdown",
   "metadata": {
    "hidden": true
   },
   "source": [
    "Determine whether the model is suitable for achieving the purpose for which it was designed (questions 1 and 2). A good question to ask at this stage “*do the results of the model make sense?*” “*Is the model fast enough to run?*” “*Does it have adequate resolution in the areas of interest?*” “*Are the results adversely affected by the boundary conditions?*”\n",
    "\n",
    "<mark>*Post-audit of the Wairakei model (comparison of prior predictions against subsequent observations) indicates reasonable performance by the model. There remain some locations where the model calibration (match against available data) could be improved.*</mark>\n"
   ]
  },
  {
   "cell_type": "markdown",
   "metadata": {
    "heading_collapsed": true
   },
   "source": [
    "#### 1.2.9\tImprove? Can we improve the model?"
   ]
  },
  {
   "cell_type": "markdown",
   "metadata": {
    "hidden": true
   },
   "source": [
    "Perhaps the most important step in model development. It is exceedingly rare that the first model developed, $f_0(\\cdot)$, is the final one that is used. Possible improvements include: \n",
    "\n",
    "- Identifying parameters whose values are not adequately known and suggesting how this uncertainty could be reduced, e.g.:\n",
    "> - Request further data from the client.\n",
    "> - Supply a recommendation to the client that additional measurements be made. The recommendation could be supported by quantitative estimates of uncertainty reduction.\n",
    "> - By conducting an inverse-modelling study.\n",
    "- Identifying areas of the model where the prediction does not match with observations and modifying the local parameters (within their known bounds) to obtain a better match. This is often referred to as ***calibration*** and it is the focus of a later module.\n",
    "- Incorporating additional physics that were initially assumed to be irrelevant but are now known to affect model outcomes.\n",
    "\n",
    "This is an iterative process (improving, and testing, and improving further) resulting in a sequence of models, $[f_0(\\cdot),f_1 (\\cdot),\\dots f_i(\\cdot)]$. At later stages, further improvements yield diminishing returns in terms of goodness-of-fit and predictive power; at some point, one must accept a model that is “good enough” or “fit-for-purpose”.\n",
    "\n",
    "<mark> *The Wairakei geothermal model has improved from its initial incarnation as a lumped-parameter model to a complex 40,000 block model that tracks surface topography, the water table, surface features, and is calibrated against temperature, pressure and mass flow measurements from over 100 wells; **the model is constantly being improved and updated as more data become available.*** </mark>"
   ]
  },
  {
   "cell_type": "markdown",
   "metadata": {
    "heading_collapsed": true
   },
   "source": [
    "#### 1.2.10\tUse? How will we exercise the model?"
   ]
  },
  {
   "cell_type": "markdown",
   "metadata": {
    "hidden": true
   },
   "source": [
    "The practical application of the model, $f_i(\\cdot)$. The model may form a component of the decision-making workflow for a particular operation, e.g., by running multiple future scenarios (varying parameters across their uncertain ranges) and thereby providing an idea of future outcomes. The model could be embedded within a larger optimization framework that seeks to determine an optimal strategy. Or the model can be used as a tool to infer unknown quantities from direct observations – enabling an entire class of *indirect observations*.  \n",
    "\n",
    "<mark>*The Wairakei model provides forecasts of steam output and pressure decline that assist field operations in their decision-making. Model forecasts are also used to outline criteria for sustainable field operation during environmental consenting.*</mark>\n"
   ]
  },
  {
   "cell_type": "markdown",
   "metadata": {
    "hidden": true
   },
   "source": [
    "<sup>4</sup> <sub>To the extent that a collection of computer code and machine commands “exists”.</sub>"
   ]
  },
  {
   "cell_type": "markdown",
   "metadata": {
    "heading_collapsed": true
   },
   "source": [
    "### 1.3 Terminology note: verification and validation"
   ]
  },
  {
   "cell_type": "markdown",
   "metadata": {
    "hidden": true
   },
   "source": [
    "Questions 7 and 8 (working? suitable?) address whether the model is, first, technically sound (constructed without defects) and, second, satisfactorily fulfils its purpose. Alternatively, we could think of the two steps as, first, an *objective* assessment of whether the model is functioning correctly and, second, a *subjective* assessment of whether the model properly satisfies the client or user’s needs. In engineering design, these steps are sometimes referred to, respectively, as *verification* and *validation*<sup>5</sup>. However, these terms have different meanings in other disciplines and, in some circles, are regarded as inappropriate descriptors of numerical models.\n",
    "\n",
    "To immediately confuse matters, Dym’s (2004) use of *verification* and *validation* reverses the traditional engineering design meanings, i.e., *verification* is the process of assessing whether the model is right and, *validation*, whether it is the right model. Clearly there is some misunderstanding or disagreement within the engineering community. \n",
    "\n",
    "Furthermore, in the Earth sciences, where models operate under conditions of pervasive uncertainty, describing a model as *valid* or *verified* will often invite rebuke and an unsolicited lecture on scientific inquiry, truth and the natural world. For instance, deriving from the Latin, verus, meaning true, verification could be taken to imply that the model is a *true* representation of the system being approximated. This is immediately a paradox (it can’t *both* be a true representation and an approximation). It also asserts a level of confidence in the model predictions that is generally unobtainable. Oreskes et al. (1994) suggest that a model is essentially a *hypothesis* and therefore is partially *confirmed* when observations agree with prediction, but is never completely confirmed (and can certainly be falsified). Further, from Konikow and Bredehoeft (1992)\n",
    "\n",
    "“*...models cannot be proven or validated, but only tested and invalidated.*”\n",
    "\n",
    "At the end of the day, it is the responsibility of the model designer to communicate clearly their intended meaning if describing a model as *verified* or *validated*. To avoid ambiguity, we shall use here the terms *working* and *suitable*.\n",
    "\n",
    "<sup>5</sup> <sub>See [ISO 9001](http://advisera.com/9001academy/knowledgebase/iso9001-design-verification-vs-design-validation/)</sub>"
   ]
  },
  {
   "cell_type": "markdown",
   "metadata": {
    "heading_collapsed": true
   },
   "source": [
    "### 1.4 Perils and pitfalls"
   ]
  },
  {
   "cell_type": "markdown",
   "metadata": {
    "hidden": true
   },
   "source": [
    "There are a number of traps one can fall into in the design of a mathematical model. Several are outlined below."
   ]
  },
  {
   "cell_type": "markdown",
   "metadata": {
    "heading_collapsed": true,
    "hidden": true
   },
   "source": [
    "#### 1.4.1 Diving head first into complexity"
   ]
  },
  {
   "cell_type": "markdown",
   "metadata": {
    "hidden": true
   },
   "source": [
    "We all experience the same giddy rush of excitement<sup>6</sup> when presented with a challenging problem and the opportunity to attend masterfully to it using a mathematical model. One is tempted to leap straight into coding up all the exotic physics you can conceive of, building a high-resolution, three-dimensional, massively parallel computing behemoth, lavishly furnished with latest trends in material models and exquisite parameter heterogeneity.\n",
    "\n",
    "Such complex models have a number of drawbacks:\n",
    "\n",
    "- With so many moving and interacting parts, it is difficult to get a sense of which physics and parameters are controlling which outputs.\n",
    "- They typically have long execution times, which makes both *calibration* and *uncertainty quantification* difficult.\n",
    "- Some physics or parameters may have no impact on the result being modelled, i.e., more complexity has been included than is necessary.\n",
    "\n",
    "A recommended approach is to *start simple*. Construct a model that has the simplest physics, the simplest geometry and the minimum number of parameters necessary to represent the problem. Once you have obtained a reasonable degree of understanding of this simple incarnation, $f_0(\\cdot)$, *one* additional element of complexity should be layered in. In this way, understanding of complex models is built “from the ground up” and we can avoid incorporating more complexity than is required to meet the modelling objectives.\n",
    "\n",
    "<sup>6</sup> <sub>Right?... Right?...</sub>"
   ]
  },
  {
   "cell_type": "markdown",
   "metadata": {
    "heading_collapsed": true,
    "hidden": true
   },
   "source": [
    "#### 1.4.3 Inadequate communication of assumptions"
   ]
  },
  {
   "cell_type": "markdown",
   "metadata": {
    "hidden": true
   },
   "source": [
    "“*All models contain assumptions*” is about as useful an observation as “*water is wet*”. Properly stating and justifying the assumptions made in developing a model is a difficult but crucial aspect of reporting. Below are three key points to hit:\n",
    "\n",
    "**(1) Is the assumption *relevant*?** A particular favourite in ENGSCI 111, when developing the model for a rock thrown in the air, is to state that “*we can assume relativistic effects are negligible*”. Great. While we’re at it, let’s assume we can ignore the rock’s flavour and that we’re probably not inhabiting some Matrix-type dream simulation. \n",
    "\n",
    "A good test of whether or not an assumption is relevant, is to ask yourself: \n",
    "- “*Is this something that could go either way?*”\n",
    "- “*Might someone at first glance think ‘actually, that’s not a reasonable assumption’?*”\n",
    "- “*Did I put some modest amount of cognitive effort into deciding that ‘actually, this is a reasonable assumption to make’?*” \n",
    "\n",
    "**(2) Is the assumption *justified*?** Imagine you write down an assumption of your model and I immediately shout “*that’s not true!*” If you can respond with “*yes, it is, and here’s why...*”, then this immediately serves as a basis for your justification. If you cannot respond, then you need to question the validity of that assumption.\n",
    "\n",
    "Note, the following are *not* acceptable justifications for an assumption: \n",
    "- “*I need to assume this otherwise I cannot model the problem.*”\n",
    "- “*When I make this assumption, the model agrees with reality.*”\n",
    "\n",
    "**(3) What are the *consequences* if the assumption is found to be unjustified?** This is challenging to address properly as, often, the only way to quantify the consequences is to run the same model with the assumption relaxed. As most assumptions amount to *leaving things out* of a model, relaxing an assumption implies adding complexity and all the additional effort that entails. Often it is only possible to describe in qualitative terms how model predictions might be affected by a particular assumption.\n"
   ]
  },
  {
   "cell_type": "markdown",
   "metadata": {
    "heading_collapsed": true,
    "hidden": true
   },
   "source": [
    "#### 1.4.4 Inadequate communication of uncertainty"
   ]
  },
  {
   "cell_type": "markdown",
   "metadata": {
    "hidden": true
   },
   "source": [
    "The value of a model is not so much that it makes a prediction of the future, but rather it can make a range of predictions, attaching a probability to each. Thus, it is true to say that most model predictions contain some degree of uncertainty. The challenge then becomes: how do we identify the sources of uncertainty and then account for those properly when the model is used to make predictions? Later on in this course, you will encounter some techniques for uncertainty quantification. For now, it is enough to make some brief points about the communication of uncertainty.\n",
    "\n",
    "When using a model, it is common to report that “the model *predicts* that a particular outcome will occur”. A less well-informed reader, may interpret this as “a particular outcome will *definitely* occur”. When actually what is meant is that:\n",
    "\n",
    "- “From a range of possible outcomes, this is the outcome the model suggests is *most likely* to occur.”\n",
    "- or “For this particular set of model input parameters, this is the outcome that will occur.”\n",
    "\n",
    "To minimize the potential for miscommunication (and to indemnify you against accusations of making misleading model predictions) it is good practice to accurately, and honestly, report sources of uncertainty associated with your model and any impact they may have on its specific predictions."
   ]
  },
  {
   "cell_type": "markdown",
   "metadata": {
    "heading_collapsed": true
   },
   "source": [
    "### References"
   ]
  },
  {
   "cell_type": "markdown",
   "metadata": {
    "hidden": true
   },
   "source": [
    "Dym, C. (2004). *Principles of Mathematical Modelling*. Academic Press.\n",
    "\n",
    "Konikow, L. F., and J. D. Bredehoeft (1992). *Ground-water models cannot be validated*. Advances in Water Resources 15, 75-83.\n",
    "\n",
    "Oreskes, N., K. Shrader-Frechette, and K. Belitz (1994). *Verification, Validation and Confirmation of Numerical Models in the Earth Sciences*. Science 263, 641-646.\n",
    "\n",
    "O’ Sullivan, M. J., A. Yeh, and W. I. Mannington (2009). *A history of numerical modelling of the Wairakei geothermal field*. Geothermics 38, 155-168.\n"
   ]
  }
 ],
 "metadata": {
  "kernelspec": {
   "display_name": "Python 3 (ipykernel)",
   "language": "python",
   "name": "python3"
  },
  "language_info": {
   "codemirror_mode": {
    "name": "ipython",
    "version": 3
   },
   "file_extension": ".py",
   "mimetype": "text/x-python",
   "name": "python",
   "nbconvert_exporter": "python",
   "pygments_lexer": "ipython3",
   "version": "3.9.12"
  }
 },
 "nbformat": 4,
 "nbformat_minor": 2
}
